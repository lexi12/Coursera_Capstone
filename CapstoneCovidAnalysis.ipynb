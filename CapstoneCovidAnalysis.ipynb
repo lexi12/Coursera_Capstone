{
 "cells": [
  {
   "cell_type": "markdown",
   "metadata": {},
   "source": [
    "# Analysis of Covid-19 positive rate variations among different postcode areas in NYC"
   ]
  },
  {
   "cell_type": "markdown",
   "metadata": {},
   "source": [
    "##  Introduction\n",
    "Positve Covid rates vary greatly among different areas in New York City. By using demographic data together with Foursquare venue location data, we may get some clues to explain the variations.\n",
    "\n",
    "This analysis is not designed for any commercial purpose, but to show public/government the possible explanations behind the pandemic."
   ]
  },
  {
   "cell_type": "markdown",
   "metadata": {},
   "source": [
    "## Data Acquisition\n",
    "In this section, I will explain all types of data I would consider in this study, and the resources to get them. Since I want to compare the postivie rate variations in different areas, the data I need will be exhibited by small areas, like community neighborhood or zip code area. I choose to use zip code area data for this study.\n",
    "\n",
    "\n",
    "#### Covid data\n",
    "NYC Covid-19 data is essential as the final target to understand. Covid data can be accessed through the website of NYC Department of Health and Mental Hygiene. The department has a github account to update the data daily: https://github.com/nychealth/coronavirus-data. The data show covid positive rates in each postal code area.\n",
    "\n",
    "#### Demographic data\n",
    "Population density could possibly cause different virus spreading rates. Also, since different age groups have their different social activity habits and show quite different reaction to the pandemic, it's interesting to know if the age percentage has played a role to cause different covid positive rates.\n",
    "\n",
    "#### Geographic data\n",
    "`uszipcode` is a python zipcode database. Information like the area of the post code areas, latitude and longitude can be easily loaded from the library. The library also offers economic information like median household income, which can also used in our analysis.\n",
    "\n",
    "#### Venue location data\n",
    "Different types and different quantities of venues can be potential reasons to cause higher or lower rates. With the venue information from Foursquare, we can cluster the venues based on zip code, and see if the cluster is related to different covid rates."
   ]
  },
  {
   "cell_type": "code",
   "execution_count": null,
   "metadata": {},
   "outputs": [],
   "source": []
  }
 ],
 "metadata": {
  "kernelspec": {
   "display_name": "Python 3",
   "language": "python",
   "name": "python3"
  },
  "language_info": {
   "codemirror_mode": {
    "name": "ipython",
    "version": 3
   },
   "file_extension": ".py",
   "mimetype": "text/x-python",
   "name": "python",
   "nbconvert_exporter": "python",
   "pygments_lexer": "ipython3",
   "version": "3.7.6"
  }
 },
 "nbformat": 4,
 "nbformat_minor": 4
}
